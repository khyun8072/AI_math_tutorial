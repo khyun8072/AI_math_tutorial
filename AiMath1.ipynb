{
  "nbformat": 4,
  "nbformat_minor": 0,
  "metadata": {
    "colab": {
      "provenance": [],
      "include_colab_link": true
    },
    "kernelspec": {
      "name": "python3",
      "display_name": "Python 3"
    },
    "language_info": {
      "name": "python"
    }
  },
  "cells": [
    {
      "cell_type": "markdown",
      "metadata": {
        "id": "view-in-github",
        "colab_type": "text"
      },
      "source": [
        "<a href=\"https://colab.research.google.com/github/kimkyeonghyun/AI_math_tutorial/blob/main/AiMath1.ipynb\" target=\"_parent\"><img src=\"https://colab.research.google.com/assets/colab-badge.svg\" alt=\"Open In Colab\"/></a>"
      ]
    },
    {
      "cell_type": "markdown",
      "source": [
        "# Linear algebra - Week1\n",
        "\n",
        "1. Systems of linear equations\n",
        "2. Singular and non-singular matrices\n",
        "3. Determinants\n",
        "\n",
        "\n"
      ],
      "metadata": {
        "id": "wpMYW6fqZRDD"
      }
    },
    {
      "cell_type": "code",
      "execution_count": null,
      "metadata": {
        "id": "Dansn1wGYa6F"
      },
      "outputs": [],
      "source": [
        "# 필요한 패키지 불러오기\n",
        "import numpy as np\n",
        "import matplotlib.pyplot as plt\n",
        "import torch\n",
        "import sympy as sy"
      ]
    },
    {
      "cell_type": "markdown",
      "source": [
        "## 1. Systems of linear equations\n",
        "\n"
      ],
      "metadata": {
        "id": "O8h_ODYavktW"
      }
    },
    {
      "cell_type": "markdown",
      "source": [
        "### Linear equation"
      ],
      "metadata": {
        "id": "X9EQcxSPBmEl"
      }
    },
    {
      "cell_type": "code",
      "source": [
        "t = np.linspace(0, 40, 1000) # start, finish, n points"
      ],
      "metadata": {
        "id": "urj1BBgmZVGN"
      },
      "execution_count": null,
      "outputs": []
    },
    {
      "cell_type": "markdown",
      "source": [
        "강도가 도망간 거리: $d = 2.5t$"
      ],
      "metadata": {
        "id": "czZIpHM4BBtx"
      }
    },
    {
      "cell_type": "code",
      "source": [
        "d_r = 2.5 * t"
      ],
      "metadata": {
        "id": "GMXSY9z_A4V2"
      },
      "execution_count": null,
      "outputs": []
    },
    {
      "cell_type": "markdown",
      "source": [
        "경찰이 달려간 거리: $d = 3(t-5)$"
      ],
      "metadata": {
        "id": "K8pODEL2BPFC"
      }
    },
    {
      "cell_type": "code",
      "source": [
        "d_s = 3 * (t-5)"
      ],
      "metadata": {
        "id": "xE3uw6jiBQWP"
      },
      "execution_count": null,
      "outputs": []
    },
    {
      "cell_type": "code",
      "source": [
        "# 그래프 그리기 설정\n",
        "fig, ax = plt.subplots()  # 그래프를 그리기 위한 기본 설정\n",
        "plt.title('A Bank Robber Caught')  # 그래프 제목 설정\n",
        "plt.xlabel('time (in minutes)')  # x축 레이블 설정\n",
        "plt.ylabel('distance (in km)')  # y축 레이블 설정\n",
        "ax.set_xlim([0, 40])  # x축 범위 설정\n",
        "ax.set_ylim([0, 100])  # y축 범위 설정\n",
        "ax.plot(t, d_r, c='green')  # 첫 번째 데이터 플롯 (녹색)\n",
        "ax.plot(t, d_s, c='brown')  # 두 번째 데이터 플롯 (갈색)\n",
        "plt.axvline(x=30, color='purple', linestyle='--')  # 특정 x값에 수직선 추가\n",
        "_ = plt.axhline(y=75, color='purple', linestyle='--')  # 특정 y값에 수평선 추가"
      ],
      "metadata": {
        "id": "FmzDiCr5BTLO"
      },
      "execution_count": null,
      "outputs": []
    },
    {
      "cell_type": "markdown",
      "source": [
        "### Non-Linear equation"
      ],
      "metadata": {
        "id": "oYq4eWVNBttx"
      }
    },
    {
      "cell_type": "markdown",
      "source": [
        "물체를 위로 던졌을때 물체의 시간 당 높이 : $h=-t^{2}+20t$"
      ],
      "metadata": {
        "id": "vLxOHvmhBykk"
      }
    },
    {
      "cell_type": "code",
      "source": [
        "h=-t**2+20*t"
      ],
      "metadata": {
        "id": "rZ16-tKLBktN"
      },
      "execution_count": null,
      "outputs": []
    },
    {
      "cell_type": "code",
      "source": [
        "# 그래프 그리기 설정\n",
        "fig, ax = plt.subplots()  # 그래프를 그리기 위한 기본 설정\n",
        "plt.title('Height of the object')  # 그래프 제목 설정\n",
        "plt.xlabel('time (in minutes)')  # x축 레이블 설정\n",
        "plt.ylabel('height (in m)')  # y축 레이블 설정\n",
        "ax.set_xlim([0, 30])  # x축 범위 설정\n",
        "ax.set_ylim([0, 120])  # y축 범위 설정\n",
        "ax.plot(t, h, c='green')  # 데이터 플롯 (녹색)\n",
        "plt.axvline(x=10, color='purple', linestyle='--')  # 특정 x값에 수직선 추가\n",
        "_ = plt.axhline(y=100, color='purple', linestyle='--')  # 특정 y값에 수평선 추가\n"
      ],
      "metadata": {
        "id": "DoNCFh3ZCiSG"
      },
      "execution_count": null,
      "outputs": []
    },
    {
      "cell_type": "markdown",
      "source": [
        "## 2. Singular and Non SIngular matrix & 3. Determinants"
      ],
      "metadata": {
        "id": "NqUydF_RDakt"
      }
    },
    {
      "cell_type": "markdown",
      "source": [
        "### Linear equations\n",
        "\n",
        "Let's think about some examples about the system of linear equations\n",
        "\n",
        "1. $a+b=5, a+2b=0$\n",
        "2. $a+b=10, 2a+2b=20$\n",
        "3. $a+b=10, 2a+2b=25$"
      ],
      "metadata": {
        "id": "FNDwSM26Dupy"
      }
    },
    {
      "cell_type": "code",
      "source": [
        "a=np.linspace(-40,40,1000)"
      ],
      "metadata": {
        "id": "qiqRvcpUDaKg"
      },
      "execution_count": null,
      "outputs": []
    },
    {
      "cell_type": "code",
      "source": [
        "#1. equation\n",
        "b_1=-a+5\n",
        "b_2=-0.5*a"
      ],
      "metadata": {
        "id": "0NbB3ZmbEq2m"
      },
      "execution_count": null,
      "outputs": []
    },
    {
      "cell_type": "code",
      "source": [
        "fig, ax = plt.subplots()\n",
        "plt.title('System of linear equations 1')\n",
        "plt.xlabel('a')\n",
        "plt.ylabel('b')\n",
        "ax.set_xlim([-10, 20])\n",
        "ax.set_ylim([-30, 30])\n",
        "ax.plot(a, b_1, c='green')\n",
        "ax.plot(a, b_2, c='brown')"
      ],
      "metadata": {
        "id": "WahWP61GE15D"
      },
      "execution_count": null,
      "outputs": []
    },
    {
      "cell_type": "code",
      "source": [
        "# equation 2\n",
        "\n",
        "b_1=-a+10\n",
        "b_2=-a+10"
      ],
      "metadata": {
        "id": "iT62nNTsEZXC"
      },
      "execution_count": null,
      "outputs": []
    },
    {
      "cell_type": "code",
      "source": [
        "fig, ax = plt.subplots()\n",
        "plt.title('System of linear equations 1')\n",
        "plt.xlabel('a')\n",
        "plt.ylabel('b')\n",
        "ax.set_xlim([-10, 20])\n",
        "ax.set_ylim([-30, 30])\n",
        "ax.plot(a, b_1, c='green')\n",
        "ax.plot(a, b_2, c='brown')"
      ],
      "metadata": {
        "id": "jRuF5KTQEW_d"
      },
      "execution_count": null,
      "outputs": []
    },
    {
      "cell_type": "code",
      "source": [
        "# equation 3\n",
        "\n",
        "b_1=-a+10\n",
        "b_2=-a+12.5"
      ],
      "metadata": {
        "id": "_2rCZOpNEV8b"
      },
      "execution_count": null,
      "outputs": []
    },
    {
      "cell_type": "code",
      "source": [
        "fig, ax = plt.subplots()\n",
        "plt.title('System of linear equations 1')\n",
        "plt.xlabel('a')\n",
        "plt.ylabel('b')\n",
        "ax.set_xlim([-10, 20])\n",
        "ax.set_ylim([-30, 30])\n",
        "ax.plot(a, b_1, c='green')\n",
        "ax.plot(a, b_2, c='brown')"
      ],
      "metadata": {
        "id": "mfvmNXPhEVMU"
      },
      "execution_count": null,
      "outputs": []
    },
    {
      "cell_type": "markdown",
      "source": [
        "### Equations as marix"
      ],
      "metadata": {
        "id": "faGLFssqNXPp"
      }
    },
    {
      "cell_type": "markdown",
      "source": [
        "Systems of equations as matrices\n",
        "\n",
        "- The above systems can convert to matrices\n",
        "- Before converting systems to matrixes, we need to understand scalar, vector, and matrix in python\n",
        "- And then, There are some examples as matrices for singularity and non-singularity  \n",
        "\n"
      ],
      "metadata": {
        "id": "mYNuGYPJF3R5"
      }
    },
    {
      "cell_type": "markdown",
      "source": [
        "#### Scalars in python"
      ],
      "metadata": {
        "id": "ifsL5V2AL6uj"
      }
    },
    {
      "cell_type": "code",
      "source": [
        "# In python\n",
        "x=10\n",
        "type(x)# if we'd like more specificity (e.g., int16, uint8), we need NumPy or another numeric library"
      ],
      "metadata": {
        "id": "VxsuKLPyF21j"
      },
      "execution_count": null,
      "outputs": []
    },
    {
      "cell_type": "code",
      "source": [
        "y=4\n",
        "py_sum=x+y\n",
        "py_sum"
      ],
      "metadata": {
        "id": "E0uVDk37LHvT"
      },
      "execution_count": null,
      "outputs": []
    },
    {
      "cell_type": "code",
      "source": [
        "x_float=10.0\n",
        "py_sum=x_float+7\n",
        "print(\"py_sum: \",py_sum)\n",
        "print(type(py_sum))"
      ],
      "metadata": {
        "id": "WUzkD3ZkLNgE"
      },
      "execution_count": null,
      "outputs": []
    },
    {
      "cell_type": "code",
      "source": [
        "# Scalars in pytorch\n",
        "x_pt=torch.tensor(10)  # type specification optional, e.g.: dtype=torch.float16\n",
        "x_pt"
      ],
      "metadata": {
        "id": "1-dCztvdLcmn"
      },
      "execution_count": null,
      "outputs": []
    },
    {
      "cell_type": "code",
      "source": [
        "x_pt.shape  # x_pt 텐서의 형태(차원)를 출력"
      ],
      "metadata": {
        "id": "dqU9H9LRLuPT"
      },
      "execution_count": null,
      "outputs": []
    },
    {
      "cell_type": "markdown",
      "source": [
        "#### Vectors in python\n",
        "\n",
        "- vector\n",
        "- vector in matrix\n",
        "- Transpose\n",
        "- zero vector"
      ],
      "metadata": {
        "id": "UzOL9NtrMDGz"
      }
    },
    {
      "cell_type": "code",
      "source": [
        "x = np.array([25, 2, 5]) # type argument is optional, e.g.: dtype=np.float16\n",
        "x"
      ],
      "metadata": {
        "id": "JX31qfJTMCFv"
      },
      "execution_count": null,
      "outputs": []
    },
    {
      "cell_type": "code",
      "source": [
        "len(x) # x의 길이 출력"
      ],
      "metadata": {
        "id": "Xp89doHFMJJq"
      },
      "execution_count": null,
      "outputs": []
    },
    {
      "cell_type": "code",
      "source": [
        "x.shape"
      ],
      "metadata": {
        "id": "hFAV7Te2MMg1"
      },
      "execution_count": null,
      "outputs": []
    },
    {
      "cell_type": "code",
      "source": [
        "x[0] # zero-indexed"
      ],
      "metadata": {
        "id": "585jy4IzMQwn"
      },
      "execution_count": null,
      "outputs": []
    },
    {
      "cell_type": "code",
      "source": [
        "type(x[0]) # x[0]의 형태 출력"
      ],
      "metadata": {
        "id": "0csxzFcDMR5v"
      },
      "execution_count": null,
      "outputs": []
    },
    {
      "cell_type": "code",
      "source": [
        "# Transposing a regular 1-D array has no effect...\n",
        "x_t = x.T\n",
        "x_t"
      ],
      "metadata": {
        "id": "mKC7vJkhMWQj"
      },
      "execution_count": null,
      "outputs": []
    },
    {
      "cell_type": "code",
      "source": [
        "x_t.shape"
      ],
      "metadata": {
        "id": "wXXRYJbJM5ys"
      },
      "execution_count": null,
      "outputs": []
    },
    {
      "cell_type": "code",
      "source": [
        "# ...but it does we use nested \"matrix-style\" brackets: It has 1 rows and 3 column\n",
        "y = np.array([[25, 2, 5]])\n",
        "y"
      ],
      "metadata": {
        "id": "yVtQhjp4MXzB"
      },
      "execution_count": null,
      "outputs": []
    },
    {
      "cell_type": "code",
      "source": [
        "y.shape"
      ],
      "metadata": {
        "id": "zlx5qE_WM76_"
      },
      "execution_count": null,
      "outputs": []
    },
    {
      "cell_type": "code",
      "source": [
        "# ...but can transpose a matrix with a dimension of length 1, which is mathematically equivalent:\n",
        "y_t = y.T\n",
        "y_t"
      ],
      "metadata": {
        "id": "sskjIoxWNCiB"
      },
      "execution_count": null,
      "outputs": []
    },
    {
      "cell_type": "code",
      "source": [
        "y_t.shape # this is a column vector as it has 3 rows and 1 column"
      ],
      "metadata": {
        "id": "6a8LfR7TNGhA"
      },
      "execution_count": null,
      "outputs": []
    },
    {
      "cell_type": "code",
      "source": [
        "# Column vector can be transposed back to original row vector:\n",
        "y_t.T"
      ],
      "metadata": {
        "id": "MNalzpJINJ9K"
      },
      "execution_count": null,
      "outputs": []
    },
    {
      "cell_type": "code",
      "source": [
        "y_t.T.shape"
      ],
      "metadata": {
        "id": "_ZhnG-r-NLaA"
      },
      "execution_count": null,
      "outputs": []
    },
    {
      "cell_type": "code",
      "source": [
        "# zero vector\n",
        "z=np.zeros(3)\n",
        "z"
      ],
      "metadata": {
        "id": "rxPmV6D7NyKV"
      },
      "execution_count": null,
      "outputs": []
    },
    {
      "cell_type": "markdown",
      "source": [
        "#### System of Linear Equations as Matrices\n",
        "\n",
        "1. $a+b=0, 2a+b=0$\n",
        "2. $a+b=0, 3a+3b=0$"
      ],
      "metadata": {
        "id": "ytjLnRBsN89R"
      }
    },
    {
      "cell_type": "code",
      "source": [
        "# 행렬 1 - 독립/유일 해/비특이 행렬 => 행렬식 ≠ 0\n",
        "M1 = np.array([[1, 1], [2, 1]])  # 2x2 행렬을 numpy 배열로 생성\n",
        "M1  # M1 값을 출력\n"
      ],
      "metadata": {
        "id": "jLNIFeASN8IT"
      },
      "execution_count": null,
      "outputs": []
    },
    {
      "cell_type": "code",
      "source": [
        "np.linalg.det(M1) # M1 행렬의 행렬식을 계산"
      ],
      "metadata": {
        "id": "YDLDvTGCP_4B"
      },
      "execution_count": null,
      "outputs": []
    },
    {
      "cell_type": "code",
      "source": [
        "b = np.array([0, 0])  # b 벡터를 numpy 배열로 생성\n",
        "np.linalg.solve(M1, b)  # M1 행렬과 b 벡터를 사용하여 선형 방정식의 해를 계산\n"
      ],
      "metadata": {
        "id": "5WhuJZ4SRFPC"
      },
      "execution_count": null,
      "outputs": []
    },
    {
      "cell_type": "code",
      "source": [
        "# 행렬 2 - 종속/중복/특이 행렬 => 행렬식 == 0\n",
        "\n",
        "M2=np.array([[1,1],[3,3]])\n",
        "M2"
      ],
      "metadata": {
        "id": "ef3GJzA3PNL0"
      },
      "execution_count": null,
      "outputs": []
    },
    {
      "cell_type": "code",
      "source": [
        "np.linalg.det(M2)"
      ],
      "metadata": {
        "id": "3jkzMSOuQKcl"
      },
      "execution_count": null,
      "outputs": []
    },
    {
      "cell_type": "code",
      "source": [
        "np.linalg.solve(M2, b)  # M2 행렬과 b 벡터를 사용하여 선형 방정식의 해를 계산 시도\n",
        "# Singular matrix -> LinAlgError 발생 (M2가 특이 행렬이기 때문에 해를 구할 수 없음)\n"
      ],
      "metadata": {
        "id": "NBeF89TmRTs2"
      },
      "execution_count": null,
      "outputs": []
    },
    {
      "cell_type": "markdown",
      "source": [
        "### The 3X3 Matrix\n",
        "\n",
        "1. $a+b+c=10, a+2b+c=15, a+b+2c=12$\n",
        "2. $a+b+c=10, a+b+2c=15, a+b+3c=20$\n",
        "3. $a+b+c=10, 2a+2b+2c=20, 3a+3b+3c=30$\n",
        "\n",
        "Cause Constants dont't matter for singularity\n",
        "These matrices can convert below equations for determine singularity(the number of solutions)\n",
        "\n",
        "1. $a+b+c=0, a+2b+c=0, a+b+2c=0$\n",
        "2. $a+b+c=0, a+b+2c=0, a+b+3c=0$\n",
        "3. $a+b+c=0, 2a+2b+2c=0, 3a+3b+3c=0$"
      ],
      "metadata": {
        "id": "hpl9kXdwSUCB"
      }
    },
    {
      "cell_type": "code",
      "source": [
        "M1=np.array([[1,1,1,0],[1,2,1,1],[1,1,2,3]])\n",
        "M2=np.array([[1,1,1],[1,1,2],[1,1,3]])\n",
        "M3=np.array([[1,1,1],[2,2,2],[3,3,3]])"
      ],
      "metadata": {
        "id": "j7ru03A5SOdw"
      },
      "execution_count": null,
      "outputs": []
    },
    {
      "cell_type": "code",
      "source": [
        "np.linalg.det(M1)"
      ],
      "metadata": {
        "id": "YzyKQXoIpVLG"
      },
      "execution_count": null,
      "outputs": []
    },
    {
      "cell_type": "code",
      "source": [
        "print(\"determinant of system 1:\", np.linalg.det(M1))\n",
        "print(\"determinant of system 2:\", np.linalg.det(M2))\n",
        "print(\"determinant of system 3:\", np.linalg.det(M3))"
      ],
      "metadata": {
        "id": "NKMFpUVQT7Nt"
      },
      "execution_count": null,
      "outputs": []
    },
    {
      "cell_type": "markdown",
      "source": [
        "# Determinant as an area"
      ],
      "metadata": {
        "id": "JEhBd3KZa3K8"
      }
    },
    {
      "cell_type": "code",
      "source": [
        "def plot_2ddet(matrix):\n",
        "    # 행렬의 행렬식을 계산\n",
        "    det = np.linalg.det(matrix)\n",
        "\n",
        "    # 그림과 축 생성\n",
        "    fig, ax = plt.subplots(figsize=(6, 6))\n",
        "\n",
        "    # 벡터를 플롯\n",
        "    ax.arrow(0, 0, matrix[0, 0], matrix[0, 1], head_width=0.1, head_length=0.1, color='b')  # 첫 번째 벡터 (파란색)\n",
        "    ax.arrow(0, 0, matrix[1, 0], matrix[1, 1], head_width=0.1, head_length=0.1, color='r')  # 두 번째 벡터 (빨간색)\n",
        "    ax.arrow(matrix[0, 0], matrix[0, 1], matrix[1, 0], matrix[1, 1], head_width=0.1, head_length=0.1, color='r')  # 빨간색 벡터의 끝에서 파란색 벡터의 끝으로\n",
        "    ax.arrow(matrix[1, 0], matrix[1, 1], matrix[0, 0], matrix[0, 1], head_width=0.1, head_length=0.1, color='b')  # 파란색 벡터의 끝에서 빨간색 벡터의 끝으로\n",
        "\n",
        "    # 행렬식 값을 주석으로 추가\n",
        "    ax.annotate(f'determinant = {det:.2f}', (matrix[0, 0] / 2, matrix[0, 1] / 2))\n",
        "\n",
        "    # 레이블 추가 및 그래프 표시\n",
        "    ax.set_xlabel('x')\n",
        "    ax.set_ylabel('y')\n",
        "    ax.grid()\n",
        "    plt.show()\n"
      ],
      "metadata": {
        "id": "01zUkb6Waxkn"
      },
      "execution_count": null,
      "outputs": []
    },
    {
      "cell_type": "code",
      "source": [
        "matrix = np.array([[2, 3], [1, 3]])  # 2x2 행렬을 numpy 배열로 생성\n",
        "plot_2ddet(matrix)  # 위에서 정의한 plot_2ddet 함수를 사용하여 행렬을 플롯\n"
      ],
      "metadata": {
        "id": "nFuLBgbKbI1B"
      },
      "execution_count": null,
      "outputs": []
    },
    {
      "cell_type": "markdown",
      "source": [
        "# Linear algebra - week 2\n",
        "\n",
        "1. Solving systems of equations\n",
        "2. Matrix row reduction\n",
        "3. Row-reduced echelon form\n",
        "4. Row echelon form\n",
        "5. Rank of a matrix"
      ],
      "metadata": {
        "id": "8zqcgnluU55P"
      }
    },
    {
      "cell_type": "markdown",
      "source": [
        "## 1. Solvine systems of equations - 4. Row echelon form\n",
        "\n",
        "- First, there is a **substitution** example.\n",
        "  $$ y = 3x $$\n",
        "$$ -5x + 2y = 2 $$\n",
        "\n",
        "For  $y$:\n",
        "$$ 2y = 2 + 5x $$\n",
        "$$ y = \\frac{2 + 5x}{2} = 1 + \\frac{5x}{2} $$\n"
      ],
      "metadata": {
        "id": "DEa3rJDTaZl0"
      }
    },
    {
      "cell_type": "code",
      "source": [
        "x = np.linspace(-10, 10, 1000) # start, finish, n points"
      ],
      "metadata": {
        "id": "MvXGIKSNaYut"
      },
      "execution_count": null,
      "outputs": []
    },
    {
      "cell_type": "code",
      "source": [
        "y1 = 3 * x"
      ],
      "metadata": {
        "id": "zH7_HCbQbZJv"
      },
      "execution_count": null,
      "outputs": []
    },
    {
      "cell_type": "code",
      "source": [
        "y2 = 1 + (5*x)/2"
      ],
      "metadata": {
        "id": "8ne-lPr6baYz"
      },
      "execution_count": null,
      "outputs": []
    },
    {
      "cell_type": "code",
      "source": [
        "fig, ax = plt.subplots()\n",
        "plt.xlabel('x')\n",
        "plt.ylabel('y')\n",
        "ax.set_xlim([0, 3])\n",
        "ax.set_ylim([0, 8])\n",
        "ax.plot(x, y1, c='green')\n",
        "ax.plot(x, y2, c='brown')\n",
        "plt.axvline(x=2, color='purple', linestyle='--')\n",
        "_ = plt.axhline(y=6, color='purple', linestyle='--')"
      ],
      "metadata": {
        "id": "9wX4Qbptbbmd"
      },
      "execution_count": null,
      "outputs": []
    },
    {
      "cell_type": "markdown",
      "source": [
        "- Second, there is a Elimination example.\n",
        "$$ 2x - 3y = 15 $$\n",
        "$$ 4x + 10y = 14 $$\n",
        "\n",
        "For $y$.\n",
        "$$ -3y = 15 - 2x $$\n",
        "$$ y = \\frac{15 - 2x}{-3} = -5 + \\frac{2x}{3} $$\n",
        "\n",
        "$$ 4x + 10y = 14 $$\n",
        "$$ 2x + 5y = 7 $$\n",
        "$$ 5y = 7 - 2x $$\n",
        "$$ y = \\frac{7 - 2x}{5} $$"
      ],
      "metadata": {
        "id": "UTARUit6bTpR"
      }
    },
    {
      "cell_type": "code",
      "source": [
        "y1 = -5 + (2*x)/3"
      ],
      "metadata": {
        "id": "FMu6z_DPbeM9"
      },
      "execution_count": null,
      "outputs": []
    },
    {
      "cell_type": "code",
      "source": [
        "y2 = (7-2*x)/5"
      ],
      "metadata": {
        "id": "WfJosA5YbfrA"
      },
      "execution_count": null,
      "outputs": []
    },
    {
      "cell_type": "code",
      "source": [
        "fig, ax = plt.subplots()\n",
        "plt.xlabel('x')\n",
        "plt.ylabel('y')\n",
        "\n",
        "# Add x and y axes:\n",
        "plt.axvline(x=0, color='lightgray')\n",
        "plt.axhline(y=0, color='lightgray')\n",
        "\n",
        "ax.set_xlim([-2, 10])\n",
        "ax.set_ylim([-6, 4])\n",
        "ax.plot(x, y1, c='green')\n",
        "ax.plot(x, y2, c='brown')\n",
        "plt.axvline(x=6, color='purple', linestyle='--')\n",
        "_ = plt.axhline(y=-1, color='purple', linestyle='--')"
      ],
      "metadata": {
        "id": "8VtK-wLVbg80"
      },
      "execution_count": null,
      "outputs": []
    },
    {
      "cell_type": "markdown",
      "source": [
        "For Elimination Method, We can define 3 functions RowSwap, RowScale, RowAdd\n",
        "\n",
        "Let's think About a system of 3 equations\n",
        "\n",
        "$$ x_1-x_2+x_3=3$$\n",
        "$$2x_1+x_2+8x_3=18$$\n",
        "$$ 4x_1-2x_2-3x_3=-2$$\n",
        "\n",
        "1. We could swap the first and last equation.\n",
        "$$ 4x_1-2x_2-3x_3=-2$$\n",
        "$$2x_1+x_2+8x_3=18$$\n",
        "$$ x_1-x_2+x_3=3$$\n",
        "\n",
        "2. Or, We could multiply the first equation by 5,\n",
        "$$ 5x_1-5x_2+5x_3=15$$\n",
        "$$2x_1+x_2+8x_3=18$$\n",
        "$$ 4x_1-2x_2-3x_3=-2$$\n",
        "\n",
        "3. Or, we could add 2 times the first equation to the last equation.\n",
        "$$ x_1-x_2+x_3=3$$\n",
        "$$2x_1+x_2+8x_3=18$$\n",
        "$$ 6x_1-x_3=4$$"
      ],
      "metadata": {
        "id": "G-jHO39obppU"
      }
    },
    {
      "cell_type": "code",
      "source": [
        "def RowSwap(A, k, l):\n",
        "    # =============================================================================\n",
        "    # A는 NumPy 배열입니다. RowSwap은 행 k와 l이 교환된 복제 배열을 반환합니다.\n",
        "    # =============================================================================\n",
        "    m = A.shape[0]  # m은 A의 행 수\n",
        "    n = A.shape[1]  # n은 A의 열 수\n",
        "\n",
        "    B = np.copy(A).astype('float')  # A의 복사본을 float형으로 생성\n",
        "\n",
        "    for j in range(n):  # 각 열에 대해\n",
        "        temp = B[k][j]  # 행 k의 열 j 값을 임시 변수에 저장\n",
        "        B[k][j] = B[l][j]  # 행 k의 열 j 값을 행 l의 열 j 값으로 교체\n",
        "        B[l][j] = temp  # 행 l의 열 j 값을 임시 변수의 값으로 교체\n",
        "\n",
        "    return B  # 수정된 배열 반환\n"
      ],
      "metadata": {
        "id": "oxozrzEKdADq"
      },
      "execution_count": null,
      "outputs": []
    },
    {
      "cell_type": "code",
      "source": [
        "def RowScale(A, k, scale):\n",
        "    # =============================================================================\n",
        "    # A는 NumPy 배열입니다. RowScale은 행 k의 항목들이 scale로 곱해진 복제 배열을 반환합니다.\n",
        "    # =============================================================================\n",
        "    m = A.shape[0]  # m은 A의 행 수\n",
        "    n = A.shape[1]  # n은 A의 열 수\n",
        "\n",
        "    B = np.copy(A).astype('float')  # A의 복사본을 float형으로 생성\n",
        "\n",
        "    for j in range(n):  # 각 열에 대해\n",
        "        B[k][j] *= scale  # 행 k의 열 j 값을 scale로 곱함\n",
        "\n",
        "    return B  # 수정된 배열 반환\n"
      ],
      "metadata": {
        "id": "MgfA-T64dEpe"
      },
      "execution_count": null,
      "outputs": []
    },
    {
      "cell_type": "code",
      "source": [
        "def RowAdd(A, k, l, scale):\n",
        "    # =============================================================================\n",
        "    # A는 NumPy 배열입니다. RowAdd는 행 l이 수정된 복제 배열을 반환합니다.\n",
        "    # 새로운 값은 행 l의 기존 값에 행 k의 값에 scale을 곱한 값을 더한 것입니다.\n",
        "    # =============================================================================\n",
        "    m = A.shape[0]  # m은 A의 행 수\n",
        "    n = A.shape[1]  # n은 A의 열 수\n",
        "\n",
        "    B = np.copy(A).astype('float')  # A의 복사본을 float형으로 생성\n",
        "\n",
        "    for j in range(n):  # 각 열에 대해\n",
        "        B[l][j] += B[k][j] * scale  # 행 k의 열 j 값에 scale을 곱한 값을 행 l의 열 j 값에 더함\n",
        "\n",
        "    return B  # 수정된 배열 반환\n"
      ],
      "metadata": {
        "id": "JUNHCRUxdGKC"
      },
      "execution_count": null,
      "outputs": []
    },
    {
      "cell_type": "markdown",
      "source": [
        "Using above functions, Find **Row echelon form, Reduced row echelon form** of matrix of system\n",
        "\n",
        "$$ x_1-x_2+x_3=3$$\n",
        "$$2x_1+x_2+8x_3=18$$\n",
        "$$ 4x_1-2x_2-3x_3=-2$$"
      ],
      "metadata": {
        "id": "zVaedhr8dxO_"
      }
    },
    {
      "cell_type": "code",
      "source": [
        "# Row echelon form으로 변환\n",
        "A = np.array([[1, -1, 1, 3], [2, 1, 8, 18], [4, 2, -3, -2]])  # 초기 행렬 A 정의\n",
        "\n",
        "# 행 0에 -2를 곱한 값을 행 1에 더함\n",
        "A1 = RowAdd(A, 0, 1, -2)\n",
        "print(A1, '\\n')\n",
        "\n",
        "# 행 0에 -4를 곱한 값을 행 2에 더함\n",
        "A2 = RowAdd(A1, 0, 2, -4)\n",
        "print(A2, '\\n')\n",
        "\n",
        "# 행 1에 -2를 곱한 값을 행 2에 더함\n",
        "A3 = RowAdd(A2, 1, 2, -2)\n",
        "print(A3, '\\n')\n",
        "\n",
        "# 행 1을 1/3으로 곱함\n",
        "A4 = RowScale(A3, 1, 1.0 / 3)\n",
        "print(A4, '\\n')\n",
        "\n",
        "# 행 2를 1/-19로 곱함\n",
        "A5 = RowScale(A4, 2, 1.0 / -19.)\n",
        "print(A5)\n"
      ],
      "metadata": {
        "id": "6bJc5kWVdwnh"
      },
      "execution_count": null,
      "outputs": []
    },
    {
      "cell_type": "code",
      "source": [
        "# Reduced Row Echelon Form으로 변환\n",
        "\n",
        "B1 = RowAdd(A5, 2, 1, -2)  # 행 2에 -2를 곱한 값을 행 1에 더함\n",
        "print(B1, '\\n')\n",
        "\n",
        "B2 = RowAdd(B1, 2, 0, -1)  # 행 2에 -1을 곱한 값을 행 0에 더함\n",
        "print(B2, '\\n')\n",
        "\n",
        "B3 = RowAdd(B2, 1, 0, 1)  # 행 1에 1을 곱한 값을 행 0에 더함\n",
        "print(B3, '\\n')\n"
      ],
      "metadata": {
        "id": "3flgh29xhFbW"
      },
      "execution_count": null,
      "outputs": []
    },
    {
      "cell_type": "code",
      "source": [
        "# 계수 행렬과 상수 항을 분리\n",
        "coefficients = A[:, :-1] # 계수 행렬\n",
        "constants = A[:, -1] # 상수 항\n",
        "\n",
        "# np.linalg.lstsq 함수는 주어진 계수 행렬과 상수 벡터에 대해 최소 제곱 해를 계산합니다.\n",
        "# solution: 최소 제곱 해 벡터\n",
        "# residuals: 잔차의 제곱합 (해가 얼마나 정확한지를 나타냅니다)\n",
        "# rank: 계수 행렬의 랭크\n",
        "solution, residuals, rank, s = np.linalg.lstsq(coefficients, constants, rcond=None)\n",
        "print(\"해:\", solution)\n"
      ],
      "metadata": {
        "id": "dmLvAEE36GJV"
      },
      "execution_count": null,
      "outputs": []
    },
    {
      "cell_type": "markdown",
      "source": [
        "## 5. Rank of Matrix"
      ],
      "metadata": {
        "id": "GrmEWnm1iIA0"
      }
    },
    {
      "cell_type": "markdown",
      "source": [
        "In linear algebra, the rank of a matrix A is the dimension of the vector space generated (or spanned) by its columns.\n",
        "\n",
        "Easily, The Rank of a matrix is the number of pieces of information.\n",
        "\n",
        "Following examples, Let's think about how to calculate **rank**\n"
      ],
      "metadata": {
        "id": "qbqaxBEgk9UT"
      }
    },
    {
      "cell_type": "markdown",
      "source": [
        "### Example 1\n",
        "$$ x_1+x_2+x_3=0$$\n",
        "$$x_1+2x_2+x_3=0$$\n",
        "$$ x_1+x_2+2x_3=0$$"
      ],
      "metadata": {
        "id": "mBbaSdeomBCi"
      }
    },
    {
      "cell_type": "code",
      "source": [
        "A=np.array([[1,1,1],[1,2,1],[1,1,2]])"
      ],
      "metadata": {
        "id": "7v-Wzt0ImAuq"
      },
      "execution_count": null,
      "outputs": []
    },
    {
      "cell_type": "code",
      "source": [
        "np.linalg.matrix_rank(A)  # 행렬 A의 랭크를 계산\n"
      ],
      "metadata": {
        "id": "IpGkEeiMkyr9"
      },
      "execution_count": null,
      "outputs": []
    },
    {
      "cell_type": "code",
      "source": [
        "A1 = RowAdd(A, 0, 1, -1)  # 행 0에 -1을 곱한 값을 행 1에 더함\n",
        "print(A1, '\\n')\n",
        "\n",
        "A2 = RowAdd(A1, 0, 2, -1)  # 행 0에 -1을 곱한 값을 행 2에 더함\n",
        "print(A2, '\\n')\n",
        "\n",
        "A3 = RowAdd(A2, 1, 0, -1)  # 행 1에 -1을 곱한 값을 행 0에 더함\n",
        "print(A3)\n"
      ],
      "metadata": {
        "id": "CbpT04DpiHIW"
      },
      "execution_count": null,
      "outputs": []
    },
    {
      "cell_type": "code",
      "source": [
        "# 계수 행렬과 상수 항을 분리\n",
        "coefficients = A\n",
        "constants = np.array([0, 0, 0])\n",
        "# np.linalg.lstsq 함수는 주어진 계수 행렬과 상수 벡터에 대해 최소 제곱 해를 계산합니다.\n",
        "# solution: 최소 제곱 해 벡터\n",
        "# residuals: 잔차의 제곱합 (해가 얼마나 정확한지를 나타냅니다)\n",
        "# rank: 계수 행렬의 랭크\n",
        "solution, residuals, rank, s = np.linalg.lstsq(coefficients, constants, rcond=None)\n",
        "print(\"RANK:\", rank)\n"
      ],
      "metadata": {
        "id": "TddHVmYb6kl5"
      },
      "execution_count": null,
      "outputs": []
    },
    {
      "cell_type": "markdown",
      "source": [
        "### Example 2\n",
        "$$ x_1+x_2+x_3=0$$\n",
        "$$x_1+x_2+2x_3=0$$\n",
        "$$ x_1+x_2+3x_3=0$$"
      ],
      "metadata": {
        "id": "M9y7HKbInK3w"
      }
    },
    {
      "cell_type": "code",
      "source": [
        "B=np.array([[1,1,1],[1,1,2],[1,1,3]])\n",
        "B"
      ],
      "metadata": {
        "id": "psKVbJ1knJFo"
      },
      "execution_count": null,
      "outputs": []
    },
    {
      "cell_type": "code",
      "source": [
        "np.linalg.matrix_rank(B)"
      ],
      "metadata": {
        "id": "P6qXs7mKmARC"
      },
      "execution_count": null,
      "outputs": []
    },
    {
      "cell_type": "code",
      "source": [
        "B1=RowAdd(B,0,1,-1)\n",
        "print(B1,'\\n')\n",
        "\n",
        "B2=RowAdd(B1,0,2,-1)\n",
        "print(B2, '\\n')\n",
        "\n",
        "B3=RowScale(B2, 2, 1/2)\n",
        "print(B3, '\\n')\n",
        "\n",
        "B4=RowAdd(B3,1,2,-1)\n",
        "print(B4)"
      ],
      "metadata": {
        "id": "odJFqmR9nV1x"
      },
      "execution_count": null,
      "outputs": []
    },
    {
      "cell_type": "code",
      "source": [
        "# 계수 행렬과 상수 항\n",
        "coefficients = B\n",
        "constants = np.array([0, 0, 0])\n",
        "# np.linalg.lstsq 함수는 주어진 계수 행렬과 상수 벡터에 대해 최소 제곱 해를 계산합니다.\n",
        "# solution: 최소 제곱 해 벡터\n",
        "# residuals: 잔차의 제곱합 (해가 얼마나 정확한지를 나타냅니다)\n",
        "# rank: 계수 행렬의 랭크\n",
        "solution, residuals, rank, s = np.linalg.lstsq(coefficients, constants, rcond=None)\n",
        "print(\"RANK:\", rank)\n"
      ],
      "metadata": {
        "id": "E3bCsU_268bO"
      },
      "execution_count": null,
      "outputs": []
    },
    {
      "cell_type": "markdown",
      "source": [
        "# Linear algebra - Week3\n",
        "\n",
        "1. vectors\n",
        "2. Matrices\n",
        "3. Dot product\n",
        "4. Matrix multiplication\n",
        "5. Linear transformations"
      ],
      "metadata": {
        "id": "C_1t6J06oLNb"
      }
    },
    {
      "cell_type": "markdown",
      "source": [
        "## 1. Vectors\n",
        "\n",
        "1. Vector\n",
        "2. Sum and difference between vectors\n",
        "3. Distances\n"
      ],
      "metadata": {
        "id": "-WH1Wfltoxyb"
      }
    },
    {
      "cell_type": "code",
      "source": [
        "def plot_vectors(vectors, colors):\n",
        "    \"\"\"\n",
        "    2D 평면에 하나 이상의 벡터를 플롯하고 각 벡터에 대해 색상을 지정합니다.\n",
        "\n",
        "    매개변수\n",
        "    ---------\n",
        "    vectors: 리스트 또는 배열의 리스트\n",
        "        플롯할 벡터의 좌표입니다. 예를 들어, [[1, 3], [2, 2]]는 [1, 3]과 [2, 2] 두 개의 벡터를 포함합니다.\n",
        "    colors: 리스트\n",
        "        벡터의 색상입니다. 예를 들어, ['red', 'blue']는 첫 번째 벡터를 빨간색으로, 두 번째 벡터를 파란색으로 표시합니다.\n",
        "\n",
        "    예제\n",
        "    -------\n",
        "    plot_vectors([[1, 3], [2, 2]], ['red', 'blue'])\n",
        "    plt.xlim(-1, 4)\n",
        "    plt.ylim(-1, 4)\n",
        "    \"\"\"\n",
        "    plt.figure()  # 새로운 그림 생성\n",
        "    plt.axvline(x=0, color='lightgray')  # y축을 나타내는 수직선 추가\n",
        "    plt.axhline(y=0, color='lightgray')  # x축을 나타내는 수평선 추가\n",
        "\n",
        "    for i in range(len(vectors)):  # 각 벡터에 대해\n",
        "        x = np.concatenate([[0, 0], vectors[i]])  # 원점을 기준으로 벡터 좌표 생성\n",
        "        plt.quiver([x[0]], [x[1]], [x[2]], [x[3]],  # 벡터를 플롯\n",
        "                   angles='xy', scale_units='xy', scale=1, color=colors[i])\n"
      ],
      "metadata": {
        "id": "TRXdwmkIoYEg"
      },
      "execution_count": null,
      "outputs": []
    },
    {
      "cell_type": "markdown",
      "source": [
        "### Vector\n",
        "\n",
        "Vector has direction and magnitude."
      ],
      "metadata": {
        "id": "u57G4NqGqEjp"
      }
    },
    {
      "cell_type": "code",
      "source": [
        "v = np.array([4, 1])  # 벡터 v를 numpy 배열로 생성\n",
        "plot_vectors([v], ['lightblue'])  # plot_vectors 함수를 사용하여 벡터 v를 플롯 (색상: 연한 파란색)\n",
        "plt.xlim(-1, 5)  # x축 범위 설정\n",
        "_ = plt.ylim(-1, 5)  # y축 범위 설정\n"
      ],
      "metadata": {
        "id": "Fg93fHBRpmz3"
      },
      "execution_count": null,
      "outputs": []
    },
    {
      "cell_type": "markdown",
      "source": [
        "### Sum and difference between vectors.\n",
        "\n",
        "Let $v_1=(4,1), v_2=(1,2)$, the sum $v_3$ of $v_1$ and $v_2$ is $(5,3)$"
      ],
      "metadata": {
        "id": "UQ-K8O8KqT26"
      }
    },
    {
      "cell_type": "code",
      "source": [
        "v_1=np.array([4,1])\n",
        "v_2=np.array([1,2])\n",
        "v_3=v_1+ v_2\n",
        "v_3"
      ],
      "metadata": {
        "id": "BIE808U0qSBG"
      },
      "execution_count": null,
      "outputs": []
    },
    {
      "cell_type": "code",
      "source": [
        "plot_vectors([v_1, v_2, v_3], ['lightpink', 'lightblue', 'purple'])  # plot_vectors 함수를 사용하여 벡터 v_1, v_2, v_3을 플롯\n",
        "plt.xlim(-1, 5)  # x축 범위 설정\n",
        "_ = plt.ylim(-1, 5)  # y축 범위 설정\n"
      ],
      "metadata": {
        "id": "jHgMngCuq8CK"
      },
      "execution_count": null,
      "outputs": []
    },
    {
      "cell_type": "code",
      "source": [
        "v_4=v_1-v_2\n",
        "plot_vectors([v_1,v_2,v_4],['lightpink','lightblue','purple'])\n",
        "plt.xlim(-1, 5)\n",
        "_ = plt.ylim(-1, 5)"
      ],
      "metadata": {
        "id": "kjQnJFCArbS8"
      },
      "execution_count": null,
      "outputs": []
    },
    {
      "cell_type": "markdown",
      "source": [
        "### Distances\n",
        "\n",
        "- L1 Distance\n",
        "- L2 Distance\n",
        "- Cosine distance"
      ],
      "metadata": {
        "id": "7YPjV25srxrQ"
      }
    },
    {
      "cell_type": "code",
      "source": [
        "# L1 distance\n",
        "u=np.array([6,2])\n",
        "v=np.array([1,5])\n",
        "u-v"
      ],
      "metadata": {
        "id": "wCo3UUFXsKKh"
      },
      "execution_count": null,
      "outputs": []
    },
    {
      "cell_type": "code",
      "source": [
        "L1=np.abs(5)+np.abs(-3) # L1 거리 계산\n",
        "L1"
      ],
      "metadata": {
        "id": "utWaTbaXtkRk"
      },
      "execution_count": null,
      "outputs": []
    },
    {
      "cell_type": "code",
      "source": [
        "L2=(5**2 + (-3)**2)**(1/2) # L2 거리 계산\n",
        "L2"
      ],
      "metadata": {
        "id": "UTE0oYnSrsyT"
      },
      "execution_count": null,
      "outputs": []
    },
    {
      "cell_type": "code",
      "source": [
        "norm_u = (6**2 + 2**2)**(1/2)  # 벡터 u의 유클리드 노름(길이) 계산\n",
        "norm_v = (1**2 + 5**2)**(1/2)  # 벡터 v의 유클리드 노름(길이) 계산\n",
        "cos = np.dot(u, v) / (norm_u * norm_v)  # u와 v 사이의 코사인 유사도 계산\n",
        "cos"
      ],
      "metadata": {
        "id": "IX3DjkEQt5Gs"
      },
      "execution_count": null,
      "outputs": []
    },
    {
      "cell_type": "markdown",
      "source": [
        "## 2. Matrices - 4. Matrix Multiplication\n"
      ],
      "metadata": {
        "id": "ziOXt69PpE_F"
      }
    },
    {
      "cell_type": "markdown",
      "source": [
        "### Frobenius Norm\n",
        "The Frobenius norm, sometimes also called the Euclidean norm (a term unfortunately also used for the vector L^2-norm), is matrix norm of an m×n matrix A defined as the square root of the sum of the absolute squares of its elements,\n",
        "\n",
        "$$ ||A||_F=\\sqrt{(\\sum_{i=1}^m\\sum_{j=1}^n|a_{i,j}|^2) }$$"
      ],
      "metadata": {
        "id": "9YoUxHK7v7Gn"
      }
    },
    {
      "cell_type": "code",
      "source": [
        "X = np.array([[1, 2], [3, 4]])\n",
        "X"
      ],
      "metadata": {
        "id": "bPVi96znurJd"
      },
      "execution_count": null,
      "outputs": []
    },
    {
      "cell_type": "code",
      "source": [
        "(1**2 + 2**2 + 3**2 + 4**2)**(1/2)"
      ],
      "metadata": {
        "id": "mkP6IcsKwa0G"
      },
      "execution_count": null,
      "outputs": []
    },
    {
      "cell_type": "code",
      "source": [
        "np.linalg.norm(X) # same function as for vector L2 norm"
      ],
      "metadata": {
        "id": "b87e9EBcwboS"
      },
      "execution_count": null,
      "outputs": []
    },
    {
      "cell_type": "markdown",
      "source": [
        "### Basic Arithmetical Properties"
      ],
      "metadata": {
        "id": "2BCW86cvwkyb"
      }
    },
    {
      "cell_type": "code",
      "source": [
        "X*2 # Element-wise"
      ],
      "metadata": {
        "id": "u4rAjTEUwd1u"
      },
      "execution_count": null,
      "outputs": []
    },
    {
      "cell_type": "code",
      "source": [
        "X+2"
      ],
      "metadata": {
        "id": "ca2YNT4WwqSm"
      },
      "execution_count": null,
      "outputs": []
    },
    {
      "cell_type": "code",
      "source": [
        "Y=X+2\n",
        "Y"
      ],
      "metadata": {
        "id": "EQeuWBDew2AC"
      },
      "execution_count": null,
      "outputs": []
    },
    {
      "cell_type": "code",
      "source": [
        "X*Y"
      ],
      "metadata": {
        "id": "df287us0w9zx"
      },
      "execution_count": null,
      "outputs": []
    },
    {
      "cell_type": "code",
      "source": [
        "## Matrix Multiplication with vector\n",
        "print(\"X: \",X)\n",
        "print('u: ',u)"
      ],
      "metadata": {
        "id": "XhrVaWkPxEld"
      },
      "execution_count": null,
      "outputs": []
    },
    {
      "cell_type": "code",
      "source": [
        "np.dot(X, u) # torch.matmul(matrix, vector) in pytorch\n"
      ],
      "metadata": {
        "id": "YTeZu0pawrXJ"
      },
      "execution_count": null,
      "outputs": []
    },
    {
      "cell_type": "code",
      "source": [
        "## Matrix Multiplication with two Matrices (MxN, NXO)\n",
        "\n",
        "np.dot(X,Y)"
      ],
      "metadata": {
        "id": "lmiXAmVyxgUn"
      },
      "execution_count": null,
      "outputs": []
    },
    {
      "cell_type": "markdown",
      "source": [
        "Note that matrix multiplication is not \"commutative\" (i.e., $AB \\neq BA$) so uncommenting the following line will throw a size mismatch error:"
      ],
      "metadata": {
        "id": "UfDGMQDPxvVd"
      }
    },
    {
      "cell_type": "markdown",
      "source": [
        "### Symmetric Matrices\n",
        "In linear algebra, a symmetric matrix is a square matrix that is equal to its transpose"
      ],
      "metadata": {
        "id": "9kJAr84ax-Sb"
      }
    },
    {
      "cell_type": "code",
      "source": [
        "X_sym = np.array([[0, 1, 2], [1, 7, 8], [2, 8, 9]])\n",
        "X_sym"
      ],
      "metadata": {
        "id": "n-WkDkQLxqPI"
      },
      "execution_count": null,
      "outputs": []
    },
    {
      "cell_type": "code",
      "source": [
        "X_sym.T"
      ],
      "metadata": {
        "id": "wIcji-JPyGSU"
      },
      "execution_count": null,
      "outputs": []
    },
    {
      "cell_type": "code",
      "source": [
        "X_sym.T == X_sym"
      ],
      "metadata": {
        "id": "OgwoDpmayHiM"
      },
      "execution_count": null,
      "outputs": []
    },
    {
      "cell_type": "markdown",
      "source": [
        "### Identity Matrices\n",
        "\n",
        "Identity Matrix is the matrix which is n × n square matrix where the diagonal consist of ones and the other elements are all zeros. It is also called as a Unit Matrix or Elementary matrix. It is represented as In or just by I, where n represents the size of the square matrix.\n",
        "\n",
        "\n"
      ],
      "metadata": {
        "id": "XkTaxy-RyLEK"
      }
    },
    {
      "cell_type": "code",
      "source": [
        "I = torch.tensor([[1, 0, 0], [0, 1, 0], [0, 0, 1]])\n",
        "I"
      ],
      "metadata": {
        "id": "jVJ6TzxNyKco"
      },
      "execution_count": null,
      "outputs": []
    },
    {
      "cell_type": "code",
      "source": [
        "x_pt = torch.tensor([25, 2, 5])\n",
        "x_pt"
      ],
      "metadata": {
        "id": "wKxoyKGuyO8l"
      },
      "execution_count": null,
      "outputs": []
    },
    {
      "cell_type": "code",
      "source": [
        "torch.matmul(I, x_pt)"
      ],
      "metadata": {
        "id": "-fCPeG2yyQ5f"
      },
      "execution_count": null,
      "outputs": []
    },
    {
      "cell_type": "markdown",
      "source": [
        "### Matrix inversion"
      ],
      "metadata": {
        "id": "uyuwoXzvyvfo"
      }
    },
    {
      "cell_type": "code",
      "source": [
        "X = np.array([[4, 2], [-5, -3]])\n",
        "X"
      ],
      "metadata": {
        "id": "rVx8C6tzyxlt"
      },
      "execution_count": null,
      "outputs": []
    },
    {
      "cell_type": "code",
      "source": [
        "Xinv = np.linalg.inv(X)\n",
        "Xinv"
      ],
      "metadata": {
        "id": "1NcAfJBSyz_C"
      },
      "execution_count": null,
      "outputs": []
    },
    {
      "cell_type": "markdown",
      "source": [
        "As a quick aside, let's prove that  $X^{−1}X=I_n$  as per the slides:"
      ],
      "metadata": {
        "id": "aUK7B576y22D"
      }
    },
    {
      "cell_type": "code",
      "source": [
        "np.dot(Xinv, X)"
      ],
      "metadata": {
        "id": "WcH7kh4Jy1KR"
      },
      "execution_count": null,
      "outputs": []
    },
    {
      "cell_type": "markdown",
      "source": [
        "Show that $y = Xw$:"
      ],
      "metadata": {
        "id": "IchAS3j3zEeO"
      }
    },
    {
      "cell_type": "code",
      "source": [
        "# Assume\n",
        "y = np.array([4, -7])\n",
        "y"
      ],
      "metadata": {
        "id": "jWHtwaCLy80N"
      },
      "execution_count": null,
      "outputs": []
    },
    {
      "cell_type": "code",
      "source": [
        "w = np.dot(Xinv, y)\n",
        "w"
      ],
      "metadata": {
        "id": "fnFekH7GzC2A"
      },
      "execution_count": null,
      "outputs": []
    },
    {
      "cell_type": "code",
      "source": [
        "np.dot(X, w)"
      ],
      "metadata": {
        "id": "ZVUZ0N83y_Nh"
      },
      "execution_count": null,
      "outputs": []
    },
    {
      "cell_type": "markdown",
      "source": [
        "### Orthogonal\n",
        "Two elements u and v of a vector space with bilinear form B are orthogonal when B(u, v) = 0. Depending on the bilinear form, the vector space may contain nonzero self-orthogonal vectors. In the case of function spaces, families of orthogonal functions are used to form a basis."
      ],
      "metadata": {
        "id": "0_c-4cSO0JX_"
      }
    },
    {
      "cell_type": "code",
      "source": [
        "I = np.array([[1, 0, 0], [0, 1, 0], [0, 0, 1]])\n",
        "I"
      ],
      "metadata": {
        "id": "DoYJy1qAz_V-"
      },
      "execution_count": null,
      "outputs": []
    },
    {
      "cell_type": "code",
      "source": [
        "column_1 = I[:,0]\n",
        "column_1"
      ],
      "metadata": {
        "id": "_WkyEwjj0Af2"
      },
      "execution_count": null,
      "outputs": []
    },
    {
      "cell_type": "code",
      "source": [
        "column_2 = I[:,1]\n",
        "column_2"
      ],
      "metadata": {
        "id": "bkaf4qfm0CRs"
      },
      "execution_count": null,
      "outputs": []
    },
    {
      "cell_type": "code",
      "source": [
        "column_3 = I[:,2]\n",
        "column_3"
      ],
      "metadata": {
        "id": "6lU44sj40DQc"
      },
      "execution_count": null,
      "outputs": []
    },
    {
      "cell_type": "code",
      "source": [
        "np.dot(column_1, column_2)"
      ],
      "metadata": {
        "id": "VtLm81KU0EKy"
      },
      "execution_count": null,
      "outputs": []
    },
    {
      "cell_type": "code",
      "source": [
        "np.dot(column_1, column_3)"
      ],
      "metadata": {
        "id": "1yYqSsxm0FMn"
      },
      "execution_count": null,
      "outputs": []
    },
    {
      "cell_type": "code",
      "source": [
        "np.dot(column_2, column_3)"
      ],
      "metadata": {
        "id": "LZETVRdz0IOl"
      },
      "execution_count": null,
      "outputs": []
    },
    {
      "cell_type": "markdown",
      "source": [
        "## 5. Linear Transformations\n"
      ],
      "metadata": {
        "id": "90ql2pnTpWXs"
      }
    },
    {
      "cell_type": "markdown",
      "source": [
        "Let's say we have a vector $v$:"
      ],
      "metadata": {
        "id": "syS4nhXY09Gs"
      }
    },
    {
      "cell_type": "code",
      "source": [
        "v = np.array([3, 1])\n",
        "v"
      ],
      "metadata": {
        "id": "9EIzwkW9pS-C"
      },
      "execution_count": null,
      "outputs": []
    },
    {
      "cell_type": "code",
      "source": [
        "plot_vectors([v], ['lightblue'])\n",
        "plt.xlim(-1, 5)\n",
        "_ = plt.ylim(-1, 5)"
      ],
      "metadata": {
        "id": "5TCWWLB_pLpr"
      },
      "execution_count": null,
      "outputs": []
    },
    {
      "cell_type": "markdown",
      "source": [
        "\"Applying\" a matrix to a vector (i.e., performing matrix-vector multiplication) can linearly transform the vector, e.g, rotate it or rescale it."
      ],
      "metadata": {
        "id": "DdNbDGRs1DeS"
      }
    },
    {
      "cell_type": "markdown",
      "source": [
        "The identity matrix, introduced earlier, is the exception that proves the rule: Applying an identity matrix does not transform the vector:"
      ],
      "metadata": {
        "id": "NpV6_aHd1ERw"
      }
    },
    {
      "cell_type": "code",
      "source": [
        "I = np.array([[1, 0], [0, 1]])\n",
        "I"
      ],
      "metadata": {
        "id": "sMy08eWO1Ajy"
      },
      "execution_count": null,
      "outputs": []
    },
    {
      "cell_type": "code",
      "source": [
        "Iv = np.dot(I, v)\n",
        "Iv"
      ],
      "metadata": {
        "id": "7uOjC2KG1IWD"
      },
      "execution_count": null,
      "outputs": []
    },
    {
      "cell_type": "code",
      "source": [
        "v == Iv"
      ],
      "metadata": {
        "id": "pJMEnsfq1JJb"
      },
      "execution_count": null,
      "outputs": []
    },
    {
      "cell_type": "code",
      "source": [
        "plot_vectors([Iv], ['blue'])\n",
        "plt.xlim(-1, 5)\n",
        "_ = plt.ylim(-1, 5)"
      ],
      "metadata": {
        "id": "8pwfwiML1KVR"
      },
      "execution_count": null,
      "outputs": []
    },
    {
      "cell_type": "markdown",
      "source": [
        "In contrast, consider this matrix (let's call it $E$) that flips vectors over the $x$-axis:"
      ],
      "metadata": {
        "id": "IR8cwz4L1NHr"
      }
    },
    {
      "cell_type": "code",
      "source": [
        "E = np.array([[1, 0], [0, -1]])\n",
        "E"
      ],
      "metadata": {
        "id": "RZ1cKf0L1MIv"
      },
      "execution_count": null,
      "outputs": []
    },
    {
      "cell_type": "code",
      "source": [
        "Ev = np.dot(E, v)\n",
        "Ev"
      ],
      "metadata": {
        "id": "Da6hJPNq1PYR"
      },
      "execution_count": null,
      "outputs": []
    },
    {
      "cell_type": "code",
      "source": [
        "plot_vectors([v, Ev], ['lightblue', 'blue'])\n",
        "plt.xlim(-1, 5)\n",
        "_ = plt.ylim(-3, 3)"
      ],
      "metadata": {
        "id": "teIxdWqe1Qzd"
      },
      "execution_count": null,
      "outputs": []
    },
    {
      "cell_type": "markdown",
      "source": [
        "Or, this matrix,  F , which flips vectors over the  y -axis:"
      ],
      "metadata": {
        "id": "IFvYwt7L1SGR"
      }
    },
    {
      "cell_type": "code",
      "source": [
        "F = np.array([[-1, 0], [0, 1]])\n",
        "F"
      ],
      "metadata": {
        "id": "rdRBy9pn1TF-"
      },
      "execution_count": null,
      "outputs": []
    },
    {
      "cell_type": "code",
      "source": [
        "Fv = np.dot(F, v)\n",
        "Fv"
      ],
      "metadata": {
        "id": "BcUmQfAb1UEu"
      },
      "execution_count": null,
      "outputs": []
    },
    {
      "cell_type": "code",
      "source": [
        "plot_vectors([v, Fv], ['lightblue', 'blue'])\n",
        "plt.xlim(-4, 4)\n",
        "_ = plt.ylim(-1, 5)"
      ],
      "metadata": {
        "id": "DO3cKgcu1XRo"
      },
      "execution_count": null,
      "outputs": []
    },
    {
      "cell_type": "markdown",
      "source": [
        "Applying a flipping matrix is an example of an **affine transformation**: a change in geometry that may adjust distances or angles between vectors, but preserves parallelism between them.\n",
        "\n",
        "In addition to flipping a matrix over an axis (a.k.a., *reflection*), other common affine transformations include:\n",
        "* *Scaling* (changing the length of vectors)\n",
        "* *Shearing* (example of this on the Mona Lisa coming up shortly)\n",
        "* *Rotation*"
      ],
      "metadata": {
        "id": "BET7mLIh1blt"
      }
    },
    {
      "cell_type": "markdown",
      "source": [
        "A single matrix can apply multiple affine transforms simultaneously (e.g., flip over an axis and rotate 45 degrees). As an example, let's see what happens when we apply this matrix $A$ to the vector $v$:\n",
        "\n"
      ],
      "metadata": {
        "id": "EGs9g4BR1rqL"
      }
    },
    {
      "cell_type": "code",
      "source": [
        "A = np.array([[-1, 4], [2, -2]])\n",
        "A"
      ],
      "metadata": {
        "id": "SmBkEZlg1kbb"
      },
      "execution_count": null,
      "outputs": []
    },
    {
      "cell_type": "code",
      "source": [
        "Av = np.dot(A, v)\n",
        "Av"
      ],
      "metadata": {
        "id": "T577GVtR1xsG"
      },
      "execution_count": null,
      "outputs": []
    },
    {
      "cell_type": "code",
      "source": [
        "plot_vectors([v, Av], ['lightblue', 'blue'])\n",
        "plt.xlim(-1, 5)\n",
        "_ = plt.ylim(-1, 5)"
      ],
      "metadata": {
        "id": "Y29ayY851y7d"
      },
      "execution_count": null,
      "outputs": []
    },
    {
      "cell_type": "code",
      "source": [
        "# Another example of applying A:\n",
        "v2 = np.array([2, 1])\n",
        "plot_vectors([v2, np.dot(A, v2)], ['lightgreen', 'green'])\n",
        "plt.xlim(-1, 5)\n",
        "_ = plt.ylim(-1, 5)"
      ],
      "metadata": {
        "id": "M8RU5eDq11h2"
      },
      "execution_count": null,
      "outputs": []
    },
    {
      "cell_type": "markdown",
      "source": [
        "We can concatenate several vectors together into a matrix (say, $V$), where each column is a separate vector. Then, whatever linear transformations we apply to $V$ will be independently applied to each column (vector):"
      ],
      "metadata": {
        "id": "iSmpfNZT15zf"
      }
    },
    {
      "cell_type": "code",
      "source": [
        "v"
      ],
      "metadata": {
        "id": "OufZcL3517sN"
      },
      "execution_count": null,
      "outputs": []
    },
    {
      "cell_type": "code",
      "source": [
        "# recall that we need to convert array to 2D to transpose into column, e.g.:\n",
        "np.matrix(v).T"
      ],
      "metadata": {
        "id": "dJogwg1v19fP"
      },
      "execution_count": null,
      "outputs": []
    },
    {
      "cell_type": "code",
      "source": [
        "v3 = np.array([-3, -1]) # mirror image of v over both axes\n",
        "v4 = np.array([-1, 1])"
      ],
      "metadata": {
        "id": "N9x00-0E1-hF"
      },
      "execution_count": null,
      "outputs": []
    },
    {
      "cell_type": "code",
      "source": [
        "V = np.concatenate((np.matrix(v).T,\n",
        "                    np.matrix(v2).T,\n",
        "                    np.matrix(v3).T,\n",
        "                    np.matrix(v4).T),\n",
        "                   axis=1)\n",
        "V"
      ],
      "metadata": {
        "id": "Vmb6BQBc1_95"
      },
      "execution_count": null,
      "outputs": []
    },
    {
      "cell_type": "code",
      "source": [
        "IV = np.dot(I, V)\n",
        "IV"
      ],
      "metadata": {
        "id": "RPKnKH0G2B0P"
      },
      "execution_count": null,
      "outputs": []
    },
    {
      "cell_type": "code",
      "source": [
        "AV = np.dot(A, V)\n",
        "AV"
      ],
      "metadata": {
        "id": "ggbhT_oH2DNx"
      },
      "execution_count": null,
      "outputs": []
    },
    {
      "cell_type": "code",
      "source": [
        "# function to convert column of matrix to 1D vector:\n",
        "def vectorfy(mtrx, clmn):\n",
        "    return np.array(mtrx[:,clmn]).reshape(-1)"
      ],
      "metadata": {
        "id": "pwzMOf5n2FRH"
      },
      "execution_count": null,
      "outputs": []
    },
    {
      "cell_type": "code",
      "source": [
        "vectorfy(V, 0)"
      ],
      "metadata": {
        "id": "PGISy3932GKz"
      },
      "execution_count": null,
      "outputs": []
    },
    {
      "cell_type": "code",
      "source": [
        "vectorfy(V, 0) == v"
      ],
      "metadata": {
        "id": "8ai_iLYQ2HnZ"
      },
      "execution_count": null,
      "outputs": []
    },
    {
      "cell_type": "code",
      "source": [
        "plot_vectors([vectorfy(V, 0), vectorfy(V, 1), vectorfy(V, 2), vectorfy(V, 3),\n",
        "             vectorfy(AV, 0), vectorfy(AV, 1), vectorfy(AV, 2), vectorfy(AV, 3)],\n",
        "            ['lightblue', 'lightgreen', 'lightgray', 'orange',\n",
        "             'blue', 'green', 'gray', 'red'])\n",
        "plt.xlim(-4, 6)\n",
        "_ = plt.ylim(-5, 5)"
      ],
      "metadata": {
        "id": "MQMorKYY2KN3"
      },
      "execution_count": null,
      "outputs": []
    },
    {
      "cell_type": "markdown",
      "source": [
        "# Linear Algebra - week4\n",
        "1. Eigen value, eigen vector\n",
        "2.Principal Component Analysis\n"
      ],
      "metadata": {
        "id": "-cAiZVy12SiX"
      }
    },
    {
      "cell_type": "markdown",
      "source": [
        "## 1. Eigne value, eigen vector"
      ],
      "metadata": {
        "id": "ose2R63p9gi1"
      }
    },
    {
      "cell_type": "markdown",
      "source": [
        "An  _eigenvector_ of an $n \\times n$ matrix $A$ is a nonzero vector $x$ such that $Ax = \\lambda x$ for some scalar $\\lambda$. A scalar $\\lambda$ is called an _eigenvalue_ of $A$ if there is a nontrivial solution $x$ of $Ax = \\lambda x$, such an $x$ is called an eigenvector corresponding to $\\lambda$."
      ],
      "metadata": {
        "id": "YgtsXARc-bs9"
      }
    },
    {
      "cell_type": "markdown",
      "source": [
        "Rewrite the equation,\n",
        "\n",
        "$$\n",
        "(A-\\lambda I)x = 0\n",
        "$$\n",
        "\n",
        "Since the eigenvector should be a nonzero vector, which means:\n",
        "\n",
        "1. The column or rows of $(A-\\lambda I)$ are linearly dependent\n",
        "2. $(A-\\lambda I)$ is not full rank, $Rank(A)<n$.\n",
        "3. $(A-\\lambda I)$ is not invertible.\n",
        "4. $\\text{det}(A-\\lambda I)=0$, which is called _characteristic equation_.\n"
      ],
      "metadata": {
        "id": "uMJJaQul-e70"
      }
    },
    {
      "cell_type": "markdown",
      "source": [
        "Consider a matrix $A$\n",
        "\n",
        "$$\n",
        "A = \\begin{bmatrix}\n",
        "1 & 0 & 0 \\\\\n",
        "1 & 0 & 1 \\\\\n",
        "2 & -2 & 3\n",
        "\\end{bmatrix}\n",
        "$$\n",
        "\n",
        "Set up the characteristic equation,"
      ],
      "metadata": {
        "id": "uXM_uFIh-hmr"
      }
    },
    {
      "cell_type": "markdown",
      "source": [
        "$$\n",
        "\\text{det}\\left(\n",
        "\\begin{bmatrix}\n",
        "1 & 0 & 0 \\\\\n",
        "1 & 0 & 1 \\\\\n",
        "2 & -2 & 3\n",
        "\\end{bmatrix}\n",
        "-\n",
        "\\lambda\n",
        "\\begin{bmatrix}\n",
        "1 & 0 & 0 \\\\\n",
        "0 & 1 & 0 \\\\\n",
        "0 & 0 & 1\n",
        "\\end{bmatrix}\n",
        "\\right) = 0\n",
        "$$\n"
      ],
      "metadata": {
        "id": "LoPe2cds-jdI"
      }
    },
    {
      "cell_type": "markdown",
      "source": [
        "Use SymPy ```charpoly``` and ```factor```, we can have straightforward solutions for eigenvalues.\n"
      ],
      "metadata": {
        "id": "4rzqXXs4-0ad"
      }
    },
    {
      "cell_type": "code",
      "source": [
        "lamda = sy.symbols('lamda') # 'lamda' withtout 'b' is reserved for SymPy, lambda is reserved for Python"
      ],
      "metadata": {
        "id": "F0XvpQ1N-1WI"
      },
      "execution_count": null,
      "outputs": []
    },
    {
      "cell_type": "code",
      "source": [
        "A = sy.Matrix([[1, 0, 0], [1, 0, 1], [2, -2, 3]])\n",
        "p = A.charpoly(lamda)  # 행렬 A의 특성 다항식을 lamda에 대해 계산\n",
        "p  # 특성 다항식 출력"
      ],
      "metadata": {
        "id": "K3JXnE3a9kZJ"
      },
      "execution_count": null,
      "outputs": []
    },
    {
      "cell_type": "markdown",
      "source": [
        "Factor the polynomial such that we can see the solution."
      ],
      "metadata": {
        "id": "r_QoCYcO_OJB"
      }
    },
    {
      "cell_type": "code",
      "source": [
        "sy.factor(p)"
      ],
      "metadata": {
        "id": "616lODNu-_zZ"
      },
      "execution_count": null,
      "outputs": []
    },
    {
      "cell_type": "markdown",
      "source": [
        "From the factored characteristic polynomial, we get the eigenvalue, and $\\lambda =1$ has algebraic multiplicity of $2$, because there are two $(\\lambda-1)$. If not factored, we can use ```solve``` instead."
      ],
      "metadata": {
        "id": "DnTcemj2_KO6"
      }
    },
    {
      "cell_type": "code",
      "source": [
        "sy.solve(p, lamda)  # 특성 다항식을 lamda에 대해 풀어서 해를 구함"
      ],
      "metadata": {
        "id": "97CCxJg8_CiY"
      },
      "execution_count": null,
      "outputs": []
    },
    {
      "cell_type": "markdown",
      "source": [
        "Or use ```eigenvals``` directly."
      ],
      "metadata": {
        "id": "gJzMekS6_H_P"
      }
    },
    {
      "cell_type": "code",
      "source": [
        "A.eigenvals()  # 행렬 A의 고유값 계산\n",
        "# 결과 {1: 2, 2: 1}는 고유값 1이 중복도 2로, 고유값 2가 중복도 1로 나타남을 의미\n",
        "# 즉, 고유값 1에 대한 고유벡터가 2개, 고유값 2에 대한 고유벡터가 1개 존재"
      ],
      "metadata": {
        "id": "dY0cZmh5_Eqf"
      },
      "execution_count": null,
      "outputs": []
    },
    {
      "cell_type": "markdown",
      "source": [
        "To find the eigenvector corresponding to $\\lambda$, we substitute the eigenvalues back into $(A-\\lambda I)x=0$ and solve it. Construct augmented matrix with $\\lambda =1$ and perform rref."
      ],
      "metadata": {
        "id": "p5-9_aRq_SNF"
      }
    },
    {
      "cell_type": "code",
      "source": [
        "# 행렬 A에서 고유값 1을 뺀 행렬 (A - 1*I)에 대해 오른쪽에 영벡터를 추가하고 행렬을 행 사다리꼴 형태로 변환\n",
        "(A - 1*sy.eye(3)).row_join(sy.zeros(3, 1)).rref()"
      ],
      "metadata": {
        "id": "o8R55Jqk_U0F"
      },
      "execution_count": null,
      "outputs": []
    },
    {
      "cell_type": "markdown",
      "source": [
        "The null space is the solution set of the linear system.\n",
        "\n",
        "$$\n",
        "\\left[\n",
        "\\begin{matrix}\n",
        "x_1 \\\\ x_2 \\\\ x_3\n",
        "\\end{matrix}\n",
        "\\right]=\n",
        "\\left[\n",
        "\\begin{matrix}\n",
        "x_2-x_3 \\\\ x_2 \\\\ x_3\n",
        "\\end{matrix}\n",
        "\\right]=\n",
        "x_2\\left[\n",
        "\\begin{matrix}\n",
        "1 \\\\ 1 \\\\ 0\n",
        "\\end{matrix}\n",
        "\\right]\n",
        "+x_3\\left[\n",
        "\\begin{matrix}\n",
        "-1 \\\\ 0 \\\\ 1\n",
        "\\end{matrix}\n",
        "\\right]\n",
        "$$"
      ],
      "metadata": {
        "id": "zsb1lsHn_afg"
      }
    },
    {
      "cell_type": "markdown",
      "source": [
        "This is called _eigenspace_ for $\\lambda = 1$, which is a subspace in $\\mathbb{R}^3$. All eigenvectors are inside the eigenspace.\n",
        "\n",
        "We can proceed with $\\lambda = 2$ as well."
      ],
      "metadata": {
        "id": "l9c6VuwO_b5K"
      }
    },
    {
      "cell_type": "code",
      "source": [
        "(A - 2*sy.eye(3)).row_join(sy.zeros(3,1)).rref()"
      ],
      "metadata": {
        "id": "4fmTfggS_dpk"
      },
      "execution_count": null,
      "outputs": []
    },
    {
      "cell_type": "markdown",
      "source": [
        "The null space is the solution set of the linear system.\n",
        "\n",
        "$$\n",
        "\\left[\n",
        "\\begin{matrix}\n",
        "x_1 \\\\ x_2 \\\\ x_3\n",
        "\\end{matrix}\n",
        "\\right]=\n",
        "\\left[\n",
        "\\begin{matrix}\n",
        "0\\\\ \\frac{1}{2}x_3\\\\ x_3\n",
        "\\end{matrix}\n",
        "\\right]=\n",
        "x_3\\left[\n",
        "\\begin{matrix}\n",
        "0 \\\\ \\frac{1}{2} \\\\ 1\n",
        "\\end{matrix}\n",
        "\\right]\n",
        "$$"
      ],
      "metadata": {
        "id": "6jQG8P5w_dXn"
      }
    },
    {
      "cell_type": "code",
      "source": [
        "eig = A.eigenvects()  # 행렬 A의 고유값 및 고유벡터를 계산\n",
        "eig"
      ],
      "metadata": {
        "id": "1wESuxwW_jW1"
      },
      "execution_count": null,
      "outputs": []
    },
    {
      "cell_type": "code",
      "source": [
        "# 첫 번째 고유값, 그 중복도(고유값의 다중도), 그리고 그 고유값에 대응하는 고유공간을 출력\n",
        "print('Eigenvalue = {0}, Multiplicity = {1}, Eigenspace = {2}'.format(eig[0][0], eig[0][1], eig[0][2]))"
      ],
      "metadata": {
        "id": "GIuuY1pk_nS6"
      },
      "execution_count": null,
      "outputs": []
    },
    {
      "cell_type": "code",
      "source": [
        "print('Eigenvalue = {0}, Multiplicity = {1}, Eigenspace = {2}'.format(eig[1][0], eig[1][1], eig[1][2]))"
      ],
      "metadata": {
        "id": "3Eu8cbBT_r81"
      },
      "execution_count": null,
      "outputs": []
    },
    {
      "cell_type": "markdown",
      "source": [
        "## <font face=\"gotham\" color=\"purple\"> NumPy Functions for Eigenvalues and Eigenspace"
      ],
      "metadata": {
        "id": "j43OBMla_waS"
      }
    },
    {
      "cell_type": "code",
      "source": [
        "A = np.array(A).astype(float); A"
      ],
      "metadata": {
        "id": "G2pKS9ZI_xAQ"
      },
      "execution_count": null,
      "outputs": []
    },
    {
      "cell_type": "code",
      "source": [
        "np.linalg.eigvals(A)"
      ],
      "metadata": {
        "id": "qnUFrkFz_0WB"
      },
      "execution_count": null,
      "outputs": []
    },
    {
      "cell_type": "code",
      "source": [
        "np.linalg.eig(A) #return both eigenvalues and eigenvectors"
      ],
      "metadata": {
        "id": "FZGlQXze_1fZ"
      },
      "execution_count": null,
      "outputs": []
    },
    {
      "cell_type": "markdown",
      "source": [
        "## 2. PCA"
      ],
      "metadata": {
        "id": "rNIdkYbkT4H1"
      }
    },
    {
      "cell_type": "code",
      "source": [
        "from sklearn import datasets\n",
        "iris = datasets.load_iris() # 붓꽃의 세 가지 품종(setosa, versicolor, virginica)에 대한 측정 데이터셋 로드"
      ],
      "metadata": {
        "id": "dJ6smOeH2NLX"
      },
      "execution_count": null,
      "outputs": []
    },
    {
      "cell_type": "markdown",
      "source": [
        "특성 수: 4개\n",
        "- Sepal length (꽃받침 길이) in cm\n",
        "- Sepal width (꽃받침 너비) in cm\n",
        "- Petal length (꽃잎 길이) in cm\n",
        "- Petal width (꽃잎 너비) in cm\n",
        "\n",
        "레이블 수: 3개 (각 레이블은 하나의 붓꽃 품종을 나타냄)\n",
        "- Setosa\n",
        "- Versicolor\n",
        "- Virginica\n"
      ],
      "metadata": {
        "id": "qqMh2ZCTLejZ"
      }
    },
    {
      "cell_type": "code",
      "source": [
        "iris.data.shape"
      ],
      "metadata": {
        "id": "rCYFZHbyTjt8"
      },
      "execution_count": null,
      "outputs": []
    },
    {
      "cell_type": "code",
      "source": [
        "iris.get(\"feature_names\")"
      ],
      "metadata": {
        "id": "Q8x-GYANTlUS"
      },
      "execution_count": null,
      "outputs": []
    },
    {
      "cell_type": "code",
      "source": [
        "iris.data[0:6,:]"
      ],
      "metadata": {
        "id": "TbhLyv34TnA3"
      },
      "execution_count": null,
      "outputs": []
    },
    {
      "cell_type": "code",
      "source": [
        "from sklearn.decomposition import PCA"
      ],
      "metadata": {
        "id": "Rc1LWUElToZo"
      },
      "execution_count": null,
      "outputs": []
    },
    {
      "cell_type": "code",
      "source": [
        "pca = PCA(n_components=2)  # 주성분 분석(PCA) 객체를 생성하고, 2개의 주성분으로 차원 축소 설정"
      ],
      "metadata": {
        "id": "4-wlTogRTq5r"
      },
      "execution_count": null,
      "outputs": []
    },
    {
      "cell_type": "code",
      "source": [
        "X = pca.fit_transform(iris.data)  # PCA를 사용하여 아이리스 데이터셋을 2차원으로 축소"
      ],
      "metadata": {
        "id": "Iub51u5ETr_z"
      },
      "execution_count": null,
      "outputs": []
    },
    {
      "cell_type": "code",
      "source": [
        "X.shape"
      ],
      "metadata": {
        "id": "_C6Z_qCUTtab"
      },
      "execution_count": null,
      "outputs": []
    },
    {
      "cell_type": "code",
      "source": [
        "X[0:6,:]"
      ],
      "metadata": {
        "id": "HWdJUJxHTuiZ"
      },
      "execution_count": null,
      "outputs": []
    },
    {
      "cell_type": "code",
      "source": [
        "_ = plt.scatter(X[:, 0], X[:, 1])"
      ],
      "metadata": {
        "id": "0b3hpzbxTvrO"
      },
      "execution_count": null,
      "outputs": []
    },
    {
      "cell_type": "code",
      "source": [
        "iris.target.shape"
      ],
      "metadata": {
        "id": "l6JAH-D_Tw8t"
      },
      "execution_count": null,
      "outputs": []
    },
    {
      "cell_type": "code",
      "source": [
        "iris.target[0:6]"
      ],
      "metadata": {
        "id": "zGYBfstITx2X"
      },
      "execution_count": null,
      "outputs": []
    },
    {
      "cell_type": "code",
      "source": [
        "unique_elements, counts_elements = np.unique(iris.target, return_counts=True)\n",
        "# iris.target 배열에서 고유한 레이블과 각 레이블의 개수를 계산\n",
        "# unique_elements는 고유한 레이블 값들, counts_elements는 각 레이블의 개수를 반환\n",
        "\n",
        "np.asarray((unique_elements, counts_elements))\n",
        "# 고유 레이블과 각 레이블의 개수를 배열 형태로 변환하여 출력\n"
      ],
      "metadata": {
        "id": "HTKpl36_Tzuz"
      },
      "execution_count": null,
      "outputs": []
    },
    {
      "cell_type": "code",
      "source": [
        "list(iris.target_names)"
      ],
      "metadata": {
        "id": "FGQx1aZET0yO"
      },
      "execution_count": null,
      "outputs": []
    },
    {
      "cell_type": "code",
      "source": [
        "# 주성분 벡터 표시\n",
        "for length, vector in zip(pca.explained_variance_, pca.components_):\n",
        "    v = vector * 3 * np.sqrt(length)\n",
        "    plt.arrow(0, 0, v[0], v[1], head_width=0.1, head_length=0.1, color='red')\n",
        "_ = plt.scatter(X[:, 0], X[:, 1], c=iris.target)\n",
        "\n",
        "plt.xlabel('Principal Component 1')\n",
        "plt.ylabel('Principal Component 2')\n",
        "plt.title('PCA of Iris Dataset with Principal Component Vectors')\n",
        "plt.show()"
      ],
      "metadata": {
        "id": "DWJrVOzUT2Kw"
      },
      "execution_count": null,
      "outputs": []
    },
    {
      "cell_type": "code",
      "source": [
        "from mpl_toolkits.mplot3d import Axes3D"
      ],
      "metadata": {
        "id": "Vou8_unLM5Zr"
      },
      "execution_count": null,
      "outputs": []
    },
    {
      "cell_type": "code",
      "source": [
        "# PCA를 사용하여 데이터를 3차원으로 축소\n",
        "pca = PCA(n_components=3)\n",
        "X = pca.fit_transform(iris.data)\n",
        "components = pca.components_"
      ],
      "metadata": {
        "id": "UUEi782qM0j3"
      },
      "execution_count": null,
      "outputs": []
    },
    {
      "cell_type": "code",
      "source": [
        "# 3D 산점도 플롯 생성\n",
        "fig = plt.figure()  # 새로운 피규어 객체 생성\n",
        "ax = fig.add_subplot(111, projection='3d')  # 3D 축 추가\n",
        "\n",
        "# 3D 산점도 그리기\n",
        "scatter = ax.scatter(X[:, 0], X[:, 1], X[:, 2], c=iris.target)\n",
        "\n",
        "# 축 레이블 설정\n",
        "ax.set_xlabel('Principal Component 1')\n",
        "ax.set_ylabel('Principal Component 2')\n",
        "ax.set_zlabel('Principal Component 3')\n",
        "\n",
        "plt.show()"
      ],
      "metadata": {
        "id": "w0kvewGsM-QY"
      },
      "execution_count": null,
      "outputs": []
    }
  ]
}